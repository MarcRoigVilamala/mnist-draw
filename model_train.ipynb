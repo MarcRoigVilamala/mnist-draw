{
 "cells": [
  {
   "cell_type": "code",
   "execution_count": 1,
   "metadata": {},
   "outputs": [],
   "source": [
    "%matplotlib inline\n",
    "import matplotlib.pyplot as plt"
   ]
  },
  {
   "cell_type": "code",
   "execution_count": 2,
   "metadata": {},
   "outputs": [],
   "source": [
    "import sys\n",
    "import warnings\n",
    "\n",
    "if not sys.warnoptions:\n",
    "    warnings.simplefilter(\"ignore\")"
   ]
  },
  {
   "cell_type": "code",
   "execution_count": 3,
   "metadata": {},
   "outputs": [],
   "source": [
    "\"\"\" --- IMPORTACION LIBRERIAS --- \"\"\"\n",
    "\n",
    "import numpy as np\n",
    "import pickle\n",
    "import pathlib\n",
    "import time\n",
    "import cv2\n",
    "\n",
    "import torch\n",
    "from torch import nn, optim\n",
    "from torch.autograd.variable import Variable\n",
    "from torchvision import transforms, datasets\n",
    "import torch.nn.functional as F"
   ]
  },
  {
   "cell_type": "code",
   "execution_count": 4,
   "metadata": {},
   "outputs": [],
   "source": [
    "from PIL import Image\n",
    "import face_recognition"
   ]
  },
  {
   "cell_type": "code",
   "execution_count": 5,
   "metadata": {},
   "outputs": [],
   "source": [
    "import os\n",
    "import torch\n",
    "import torch.nn as nn\n",
    "from torch.autograd import Variable\n",
    "import torchvision.datasets as dset\n",
    "import torchvision.transforms as transforms\n",
    "import torch.nn.functional as F\n",
    "import torch.optim as optim\n",
    "## load mnist dataset\n",
    "use_cuda = torch.cuda.is_available()"
   ]
  },
  {
   "cell_type": "code",
   "execution_count": 6,
   "metadata": {},
   "outputs": [],
   "source": [
    "root = './data'\n",
    "if not os.path.exists(root):\n",
    "    os.mkdir(root)"
   ]
  },
  {
   "cell_type": "code",
   "execution_count": 10,
   "metadata": {},
   "outputs": [],
   "source": [
    "#trans = transforms.Compose([transforms.ToTensor(), transforms.Normalize((0.5,), (1.0,))])\n",
    "trans = transforms.ToTensor()\n",
    "# if not exist, download mnist dataset\n",
    "train_set = dset.MNIST(root=root, train=True, transform=trans, download=True)\n",
    "test_set = dset.MNIST(root=root, train=False, transform=trans, download=True)"
   ]
  },
  {
   "cell_type": "code",
   "execution_count": 11,
   "metadata": {},
   "outputs": [
    {
     "name": "stdout",
     "output_type": "stream",
     "text": [
      "==>>> total trainning batch number: 600\n",
      "==>>> total testing batch number: 100\n"
     ]
    }
   ],
   "source": [
    "batch_size = 100\n",
    "\n",
    "train_loader = torch.utils.data.DataLoader(\n",
    "                 dataset=train_set,\n",
    "                 batch_size=batch_size,\n",
    "                 shuffle=True)\n",
    "test_loader = torch.utils.data.DataLoader(\n",
    "                dataset=test_set,\n",
    "                batch_size=batch_size,\n",
    "                shuffle=False)\n",
    "\n",
    "print('==>>> total trainning batch number: {}'.format(len(train_loader)))\n",
    "print('==>>> total testing batch number: {}'.format(len(test_loader)))"
   ]
  },
  {
   "cell_type": "code",
   "execution_count": 12,
   "metadata": {},
   "outputs": [],
   "source": [
    "for batch_idx, (x, target) in enumerate(train_loader):\n",
    "    break"
   ]
  },
  {
   "cell_type": "code",
   "execution_count": 13,
   "metadata": {},
   "outputs": [],
   "source": [
    "samples = x.data.cpu().numpy()"
   ]
  },
  {
   "cell_type": "code",
   "execution_count": 14,
   "metadata": {},
   "outputs": [
    {
     "data": {
      "text/plain": [
       "<matplotlib.image.AxesImage at 0x7f414cdc23c8>"
      ]
     },
     "execution_count": 14,
     "metadata": {},
     "output_type": "execute_result"
    },
    {
     "data": {
      "image/png": "[encoded data removed]",
      "text/plain": [
       "<Figure size 432x288 with 1 Axes>"
      ]
     },
     "metadata": {
      "needs_background": "light"
     },
     "output_type": "display_data"
    }
   ],
   "source": [
    "which_sample = 2\n",
    "plt.imshow(samples[which_sample].reshape(28,28), cmap=\"gray\")"
   ]
  },
  {
   "cell_type": "code",
   "execution_count": 15,
   "metadata": {},
   "outputs": [],
   "source": [
    "## network\n",
    "class MLPNet(nn.Module):\n",
    "    def __init__(self):\n",
    "        super(MLPNet, self).__init__()\n",
    "        self.fc1 = nn.Linear(28*28, 500)\n",
    "        self.fc2 = nn.Linear(500, 256)\n",
    "        self.fc3 = nn.Linear(256, 10)\n",
    "    def forward(self, x):\n",
    "        x = x.view(-1, 28*28)\n",
    "        x = F.relu(self.fc1(x))\n",
    "        x = F.relu(self.fc2(x))\n",
    "        x = self.fc3(x)\n",
    "        return x\n",
    "    \n",
    "    def name(self):\n",
    "        return \"MLP\""
   ]
  },
  {
   "cell_type": "code",
   "execution_count": 18,
   "metadata": {},
   "outputs": [],
   "source": [
    "## training\n",
    "model = MLPNet()\n",
    "\n",
    "if use_cuda:\n",
    "    model = model.cuda()\n",
    "\n",
    "optimizer = optim.SGD(model.parameters(), lr=0.01, momentum=0.9)\n",
    "\n",
    "criterion = nn.CrossEntropyLoss()"
   ]
  },
  {
   "cell_type": "code",
   "execution_count": 19,
   "metadata": {},
   "outputs": [
    {
     "name": "stdout",
     "output_type": "stream",
     "text": [
      "==>>> epoch: 0, batch index: 100, train loss: 0.256688, test loss: 0.233275, acc: 0.923\n",
      "==>>> epoch: 1, batch index: 100, train loss: 0.225994, test loss: 0.168282, acc: 0.946\n",
      "==>>> epoch: 2, batch index: 100, train loss: 0.135259, test loss: 0.126223, acc: 0.956\n",
      "==>>> epoch: 3, batch index: 100, train loss: 0.112979, test loss: 0.106205, acc: 0.964\n",
      "==>>> epoch: 4, batch index: 100, train loss: 0.087054, test loss: 0.088318, acc: 0.971\n",
      "==>>> epoch: 5, batch index: 100, train loss: 0.081657, test loss: 0.081239, acc: 0.968\n",
      "==>>> epoch: 6, batch index: 100, train loss: 0.062081, test loss: 0.065759, acc: 0.976\n",
      "==>>> epoch: 7, batch index: 100, train loss: 0.042542, test loss: 0.059338, acc: 0.979\n",
      "==>>> epoch: 8, batch index: 100, train loss: 0.055839, test loss: 0.065439, acc: 0.976\n",
      "==>>> epoch: 9, batch index: 100, train loss: 0.041584, test loss: 0.066380, acc: 0.978\n",
      "==>>> epoch: 10, batch index: 100, train loss: 0.036102, test loss: 0.055581, acc: 0.979\n",
      "==>>> epoch: 11, batch index: 100, train loss: 0.032823, test loss: 0.051203, acc: 0.980\n",
      "==>>> epoch: 12, batch index: 100, train loss: 0.024026, test loss: 0.048682, acc: 0.980\n",
      "==>>> epoch: 13, batch index: 100, train loss: 0.028382, test loss: 0.056439, acc: 0.980\n",
      "==>>> epoch: 14, batch index: 100, train loss: 0.025710, test loss: 0.055719, acc: 0.981\n",
      "==>>> epoch: 15, batch index: 100, train loss: 0.013693, test loss: 0.053473, acc: 0.980\n",
      "==>>> epoch: 16, batch index: 100, train loss: 0.011266, test loss: 0.047682, acc: 0.981\n",
      "==>>> epoch: 17, batch index: 100, train loss: 0.010853, test loss: 0.054304, acc: 0.980\n",
      "==>>> epoch: 18, batch index: 100, train loss: 0.009898, test loss: 0.052856, acc: 0.982\n",
      "==>>> epoch: 19, batch index: 100, train loss: 0.009587, test loss: 0.049229, acc: 0.980\n",
      "==>>> epoch: 20, batch index: 100, train loss: 0.006124, test loss: 0.050367, acc: 0.981\n",
      "==>>> epoch: 21, batch index: 100, train loss: 0.005586, test loss: 0.055162, acc: 0.980\n",
      "==>>> epoch: 22, batch index: 100, train loss: 0.006876, test loss: 0.051844, acc: 0.982\n",
      "==>>> epoch: 23, batch index: 100, train loss: 0.004771, test loss: 0.049021, acc: 0.982\n",
      "==>>> epoch: 24, batch index: 100, train loss: 0.006137, test loss: 0.050647, acc: 0.981\n",
      "==>>> epoch: 25, batch index: 100, train loss: 0.003871, test loss: 0.053313, acc: 0.981\n",
      "==>>> epoch: 26, batch index: 100, train loss: 0.004270, test loss: 0.054676, acc: 0.981\n",
      "==>>> epoch: 27, batch index: 100, train loss: 0.002482, test loss: 0.055669, acc: 0.982\n",
      "==>>> epoch: 28, batch index: 100, train loss: 0.002034, test loss: 0.055008, acc: 0.981\n",
      "==>>> epoch: 29, batch index: 100, train loss: 0.002058, test loss: 0.055788, acc: 0.981\n"
     ]
    }
   ],
   "source": [
    "for epoch in range(30):\n",
    "    # trainning\n",
    "    ave_loss_train = 0\n",
    "    for batch_idx, (x, target) in enumerate(train_loader):\n",
    "        optimizer.zero_grad()\n",
    "        if use_cuda:\n",
    "            x, target = x.cuda(), target.cuda()\n",
    "        x, target = Variable(x), Variable(target)\n",
    "        out = model(x)\n",
    "        loss = criterion(out, target)\n",
    "        ave_loss_train = ave_loss_train * 0.9 + loss.item() * 0.1\n",
    "        loss.backward()\n",
    "        optimizer.step()\n",
    "        \n",
    "    # testing\n",
    "    correct_cnt, ave_loss = 0, 0\n",
    "    total_cnt = 0\n",
    "    for batch_idx, (x, target) in enumerate(test_loader):\n",
    "        if use_cuda:\n",
    "            x, target = x.cuda(), target.cuda()\n",
    "        x, target = Variable(x, volatile=True), Variable(target, volatile=True)\n",
    "        out = model(x)\n",
    "        loss = criterion(out, target)\n",
    "        _, pred_label = torch.max(out.data, 1)\n",
    "        total_cnt += x.data.size()[0]\n",
    "        correct_cnt += (pred_label == target.data).sum()\n",
    "        \n",
    "        # smooth average\n",
    "        ave_loss = ave_loss * 0.9 + loss.item() * 0.1\n",
    "        \n",
    "        if(batch_idx+1) % 100 == 0 or (batch_idx+1) == len(test_loader):\n",
    "            print('==>>> epoch: {}, batch index: {}, train loss: {:.6f}, test loss: {:.6f}, acc: {:.3f}'.format(\n",
    "                epoch, batch_idx+1, ave_loss_train, ave_loss, correct_cnt.item() * 1.0 / total_cnt))"
   ]
  },
  {
   "cell_type": "code",
   "execution_count": 20,
   "metadata": {},
   "outputs": [],
   "source": [
    "torch.save(model.state_dict(), \"models/mlp_mnist.pt\")"
   ]
  }
 ],
 "metadata": {
  "kernelspec": {
   "display_name": "Python 3",
   "language": "python",
   "name": "python3"
  },
  "language_info": {
   "codemirror_mode": {
    "name": "ipython",
    "version": 3
   },
   "file_extension": ".py",
   "mimetype": "text/x-python",
   "name": "python",
   "nbconvert_exporter": "python",
   "pygments_lexer": "ipython3",
   "version": "3.8.10"
  }
 },
 "nbformat": 4,
 "nbformat_minor": 2
}
